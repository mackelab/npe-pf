{
 "cells": [
  {
   "cell_type": "code",
   "execution_count": 1,
   "id": "69087302",
   "metadata": {},
   "outputs": [
    {
     "data": {
      "text/plain": [
       "<torch._C.Generator at 0x7f02b2bf8730>"
      ]
     },
     "execution_count": 1,
     "metadata": {},
     "output_type": "execute_result"
    }
   ],
   "source": [
    "import matplotlib.pyplot as plt\n",
    "import numpy as np\n",
    "import torch\n",
    "from sbi.analysis import pairplot\n",
    "from sbi.inference import NPE\n",
    "from torch.distributions import Normal, Uniform\n",
    "\n",
    "from npe_pf import TabPFN_Based_NPE_PF, run_tsnpe_pf\n",
    "\n",
    "# seed\n",
    "torch.manual_seed(42)"
   ]
  },
  {
   "cell_type": "markdown",
   "id": "f1d5943d",
   "metadata": {},
   "source": [
    "## Define simulator and prior, and run some simulations."
   ]
  },
  {
   "cell_type": "code",
   "execution_count": 2,
   "id": "77aa9197",
   "metadata": {},
   "outputs": [],
   "source": [
    "# define simulator and prior\n",
    "def two_moons_simulator(theta):\n",
    "    size_theta = theta.shape\n",
    "\n",
    "    uniform = Uniform(\n",
    "        torch.zeros(size_theta[0]) + (-np.pi / 2),\n",
    "        torch.zeros(size_theta[0]) + (np.pi / 2),\n",
    "    )\n",
    "    # mean_radius=0.1, std_radius=0.01\n",
    "    normal = Normal(\n",
    "        torch.zeros(size_theta[0]) + 0.1,\n",
    "        torch.zeros(size_theta[0]) + 0.01,\n",
    "    )\n",
    "\n",
    "    a = uniform.rsample()\n",
    "    r = normal.rsample()\n",
    "\n",
    "    p = torch.empty(size_theta)\n",
    "\n",
    "    p[:, 0] = torch.mul(r, torch.cos(a)) + 0.25\n",
    "    p[:, 1] = torch.mul(r, torch.sin(a))\n",
    "\n",
    "    q = torch.empty(size_theta)\n",
    "    q[:, 0] = -torch.abs(theta[:, 0] + theta[:, 1]) / np.sqrt(2)\n",
    "    q[:, 1] = (-theta[:, 0] + theta[:, 1]) / np.sqrt(2)\n",
    "\n",
    "    return p + q\n",
    "\n",
    "\n",
    "prior = Uniform(-torch.ones(2), torch.ones(2))\n",
    "\n",
    "# number of simulations and posterior samples\n",
    "num_simulations = 1000\n",
    "num_posterior_samples = 1000\n",
    "thetas = prior.sample((num_simulations,))\n",
    "# simulate data\n",
    "xs = two_moons_simulator(thetas)\n",
    "\n",
    "\n",
    "# observation\n",
    "theta_o = 0.5 * torch.ones(1, 2)\n",
    "x_o = two_moons_simulator(theta_o)"
   ]
  },
  {
   "cell_type": "markdown",
   "id": "d9e7c043",
   "metadata": {},
   "source": [
    "## Comparison of standard flow-based NPE (from the `sbi` library) and NPE-PF\n",
    "\n",
    "The default context size of NPE-PF is set to 10,000 simulations. If you append more simulations, the context will optimized using filtering. By default, the simulations are filtered using the Euclidean distance in standardized feature space."
   ]
  },
  {
   "cell_type": "code",
   "execution_count": 3,
   "id": "a63680fd",
   "metadata": {},
   "outputs": [
    {
     "name": "stdout",
     "output_type": "stream",
     "text": [
      "Method: NPE\n",
      "Training ...\n",
      " Neural network successfully converged after 214 epochs. Sampling ...\n"
     ]
    },
    {
     "data": {
      "application/vnd.jupyter.widget-view+json": {
       "model_id": "7cb0b2769b1144e6979914d0efae4b06",
       "version_major": 2,
       "version_minor": 0
      },
      "text/plain": [
       "Drawing 1000 posterior samples:   0%|          | 0/1000 [00:00<?, ?it/s]"
      ]
     },
     "metadata": {},
     "output_type": "display_data"
    },
    {
     "name": "stdout",
     "output_type": "stream",
     "text": [
      "Method: NPE-PF\n",
      "Sampling ...\n"
     ]
    }
   ],
   "source": [
    "print(\"Method: NPE\")\n",
    "inference_npe = NPE(prior=prior)\n",
    "inference_npe.append_simulations(thetas, xs)\n",
    "print(\"Training ...\")\n",
    "inference_npe.train()\n",
    "posterior_npe = inference_npe.build_posterior()\n",
    "print(\" Sampling ...\")\n",
    "samples_npe = posterior_npe.sample((num_posterior_samples,), x=x_o)\n",
    "\n",
    "print(\"Method: NPE-PF\")\n",
    "npe_pf_posterior = TabPFN_Based_NPE_PF(prior=prior)\n",
    "npe_pf_posterior.append_simulations(thetas, xs)\n",
    "# NO TRAINING!\n",
    "print(\"Sampling ...\")\n",
    "samples_npepf = npe_pf_posterior.sample((num_posterior_samples,), x=x_o)"
   ]
  },
  {
   "cell_type": "code",
   "execution_count": 4,
   "id": "deb6b0bf",
   "metadata": {},
   "outputs": [
    {
     "data": {
      "image/png": "[encoded data removed]",
      "text/plain": [
       "<Figure size 300x300 with 4 Axes>"
      ]
     },
     "metadata": {},
     "output_type": "display_data"
    },
    {
     "data": {
      "image/png": "[encoded data removed]",
      "text/plain": [
       "<Figure size 300x300 with 4 Axes>"
      ]
     },
     "metadata": {},
     "output_type": "display_data"
    }
   ],
   "source": [
    "for samples, title in [\n",
    "    (samples_npe, \"NPE\"),\n",
    "    (samples_npepf, \"NPE-PF\"),\n",
    "]:\n",
    "    pairplot(\n",
    "        samples,\n",
    "        points=theta_o.reshape(1, -1),\n",
    "        figsize=(3, 3),\n",
    "        fig_kwargs={\n",
    "            \"marker\": \"x\",\n",
    "            \"s\": 100,\n",
    "            \"points_colors\": \"red\",\n",
    "            \"title\": title,\n",
    "        },\n",
    "    )\n",
    "    plt.show()\n",
    "    plt.close()"
   ]
  },
  {
   "cell_type": "markdown",
   "id": "85378aa0",
   "metadata": {},
   "source": [
    "## Run sequential inference with TSNPE-PF\n",
    "The `run_tsnpe_pf` function returns a `TabPFN_Based_NPE_PF` object. Keep in mind, that the context is optimized over several rounds for the given observation. \n",
    "Using the resulting inference object for other observations might result in decreased performance."
   ]
  },
  {
   "cell_type": "code",
   "execution_count": 5,
   "id": "76e9d93d",
   "metadata": {},
   "outputs": [
    {
     "name": "stderr",
     "output_type": "stream",
     "text": [
      "Reduced simulation_batch_size to num_simulation_per_round\n"
     ]
    },
    {
     "data": {
      "application/vnd.jupyter.widget-view+json": {
       "model_id": "8d6eee69186a4d1d8ba123fc5ad44bfe",
       "version_major": 2,
       "version_minor": 0
      },
      "text/plain": [
       "  0%|          | 0/1 [00:00<?, ?it/s]"
      ]
     },
     "metadata": {},
     "output_type": "display_data"
    },
    {
     "data": {
      "application/vnd.jupyter.widget-view+json": {
       "model_id": "52abebed509441e0964b5499a89c82d4",
       "version_major": 2,
       "version_minor": 0
      },
      "text/plain": [
       "Drawing 200 restricted posterior samples:   0%|          | 0/200 [00:00<?, ?it/s]"
      ]
     },
     "metadata": {},
     "output_type": "display_data"
    },
    {
     "data": {
      "application/vnd.jupyter.widget-view+json": {
       "model_id": "8e647bac990543f287cd10d801a9693d",
       "version_major": 2,
       "version_minor": 0
      },
      "text/plain": [
       "  0%|          | 0/1 [00:00<?, ?it/s]"
      ]
     },
     "metadata": {},
     "output_type": "display_data"
    },
    {
     "data": {
      "application/vnd.jupyter.widget-view+json": {
       "model_id": "865c5ffc764c446e9c78ebe604aeb1c6",
       "version_major": 2,
       "version_minor": 0
      },
      "text/plain": [
       "Drawing 200 restricted posterior samples:   0%|          | 0/200 [00:00<?, ?it/s]"
      ]
     },
     "metadata": {},
     "output_type": "display_data"
    },
    {
     "data": {
      "application/vnd.jupyter.widget-view+json": {
       "model_id": "26c8eda624144358ba9dd438a3655be3",
       "version_major": 2,
       "version_minor": 0
      },
      "text/plain": [
       "  0%|          | 0/1 [00:00<?, ?it/s]"
      ]
     },
     "metadata": {},
     "output_type": "display_data"
    },
    {
     "data": {
      "application/vnd.jupyter.widget-view+json": {
       "model_id": "31f2bd652bd640d8a977fb3815f97617",
       "version_major": 2,
       "version_minor": 0
      },
      "text/plain": [
       "Drawing 200 restricted posterior samples:   0%|          | 0/200 [00:00<?, ?it/s]"
      ]
     },
     "metadata": {},
     "output_type": "display_data"
    },
    {
     "data": {
      "application/vnd.jupyter.widget-view+json": {
       "model_id": "f6318e5aefd149f49d781e712dd51f6b",
       "version_major": 2,
       "version_minor": 0
      },
      "text/plain": [
       "  0%|          | 0/1 [00:00<?, ?it/s]"
      ]
     },
     "metadata": {},
     "output_type": "display_data"
    },
    {
     "data": {
      "application/vnd.jupyter.widget-view+json": {
       "model_id": "f5bd2e72ca79414c83af477a213e0926",
       "version_major": 2,
       "version_minor": 0
      },
      "text/plain": [
       "Drawing 200 restricted posterior samples:   0%|          | 0/200 [00:00<?, ?it/s]"
      ]
     },
     "metadata": {},
     "output_type": "display_data"
    },
    {
     "data": {
      "application/vnd.jupyter.widget-view+json": {
       "model_id": "1adf6d670a3741f58ac9d1746f0290ea",
       "version_major": 2,
       "version_minor": 0
      },
      "text/plain": [
       "  0%|          | 0/1 [00:00<?, ?it/s]"
      ]
     },
     "metadata": {},
     "output_type": "display_data"
    }
   ],
   "source": [
    "tsnpe_pf_posterior = run_tsnpe_pf(\n",
    "    simulator=two_moons_simulator,\n",
    "    prior=prior,\n",
    "    observation=x_o,\n",
    "    num_simulations=1_000,\n",
    "    num_rounds=5,\n",
    "    proposal_batch_size=1000,\n",
    "    simulation_batch_size=1000,\n",
    ")"
   ]
  },
  {
   "cell_type": "code",
   "execution_count": 6,
   "id": "7aef9363",
   "metadata": {},
   "outputs": [
    {
     "data": {
      "image/png": "[encoded data removed]",
      "text/plain": [
       "<Figure size 300x300 with 4 Axes>"
      ]
     },
     "metadata": {},
     "output_type": "display_data"
    }
   ],
   "source": [
    "samples_tsnpepf = tsnpe_pf_posterior.sample((num_posterior_samples,), x=x_o)\n",
    "pairplot(\n",
    "    samples_tsnpepf,\n",
    "    points=theta_o.reshape(1, -1),\n",
    "    figsize=(3, 3),\n",
    "    fig_kwargs={\n",
    "        \"marker\": \"x\",\n",
    "        \"s\": 100,\n",
    "        \"points_colors\": \"red\",\n",
    "        \"title\": \"TSNPE-PF\",\n",
    "    },\n",
    ")\n",
    "plt.show()\n",
    "plt.close()"
   ]
  }
 ],
 "metadata": {
  "kernelspec": {
   "display_name": "tabpfn",
   "language": "python",
   "name": "python3"
  },
  "language_info": {
   "codemirror_mode": {
    "name": "ipython",
    "version": 3
   },
   "file_extension": ".py",
   "mimetype": "text/x-python",
   "name": "python",
   "nbconvert_exporter": "python",
   "pygments_lexer": "ipython3",
   "version": "3.11.11"
  }
 },
 "nbformat": 4,
 "nbformat_minor": 5
}
